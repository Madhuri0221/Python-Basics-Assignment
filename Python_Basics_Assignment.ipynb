{
  "nbformat": 4,
  "nbformat_minor": 0,
  "metadata": {
    "colab": {
      "provenance": []
    },
    "kernelspec": {
      "name": "python3",
      "display_name": "Python 3"
    },
    "language_info": {
      "name": "python"
    }
  },
  "cells": [
    {
      "cell_type": "code",
      "execution_count": null,
      "metadata": {
        "id": "lwzDivZwCae9"
      },
      "outputs": [],
      "source": []
    },
    {
      "cell_type": "markdown",
      "source": [],
      "metadata": {
        "id": "7w2X9pnOZNLt"
      }
    },
    {
      "cell_type": "markdown",
      "source": [
        "# Python Basics Assignment\n"
      ],
      "metadata": {
        "id": "cPwJDWmjZQTJ"
      }
    },
    {
      "cell_type": "markdown",
      "source": [],
      "metadata": {
        "id": "Mo53k8j4q_4d"
      }
    },
    {
      "cell_type": "markdown",
      "source": [
        "1. Explain the key features of Python that make it a popular choice for programming\n",
        "   - Interpreted language:\n",
        "      - Python is an interpreted language, it executes line-by-line\n",
        "      - Helps in quick debugging\n",
        "   - Dynamic typing:\n",
        "      - To declare a variable instead of declaring it as int x = 90, we can declare as x = 90, pythons understands that it is an integer\n",
        "      - Another example: s = \"mango\", it is a string, no need to declare it as var s = \"mango\"\n",
        "   - Simple and Readable syntax:\n",
        "      - Easy to learn and understand\n",
        "      - Example: if percentage > 80:\n",
        "                       print(f\"{student} is passed with {percentage} %\") #Indentation\n",
        "   - Cross platform compatibility:\n",
        "      - The written code can be runned in any OS - MacOS, Windows, Linux without any modification\n",
        "   - Standard libraries:\n",
        "      - We have built-in modules\n",
        "      - Example: for File I/O we use os, sys libraries\n",
        "               - for Data processing we can use json, csv\n",
        "   - Integration capability:\n",
        "      - According to my knowledge i know it gets integrated with Java (Jython)\n",
        "   - Scalability:\n",
        "      - Used by Google, Netflix, Instagram\n",
        "   - Supports Frameworks:\n",
        "      - I know that web developers use Django, FastAPI, Flask for web development\n",
        "      - In data science and analytics we use Pandas, Numpy\n",
        "      - For automation : Selenium, PyautoGUI\n",
        "   \n",
        "  \n"
      ],
      "metadata": {
        "id": "c0bLTJYJTmYS"
      }
    },
    {
      "cell_type": "markdown",
      "source": [
        "2.  Describe the role of predefined keywords in Python and provide examples of how they are used in a\n",
        "program\n",
        "    - Predefined keywords are the words which have specific meaning and they\n",
        "      work/perform according to that\n",
        "    - We cannot use the keywords as variables or identifiers, it throws Syntax\n",
        "      error\n",
        "        - Example: or = 3.14 #throws error\n",
        "        - OR = 3.14 #works\n",
        "    - Keywords are case-sensitive\n",
        "      - 'and' works but 'AND' doesnot work\n",
        "    - Examples: if, else, while, for, import, elif, continue, break etc\n",
        "    - Lets walk through those examples:\n",
        "      - if: Its work is to decide if the given condition is True or False\n",
        "        - if a == b:\n",
        "            print(\"Equal\")\n",
        "      - else: This comes after if, works same as if\n",
        "        - if a == b:\n",
        "            print(\"Equal\")\n",
        "          else:\n",
        "            print(\"Not Equal\")\n",
        "      - elif: Works on multiple conditions\n",
        "        - if a == b:\n",
        "            print(\"Equal\")\n",
        "          elif a > b:\n",
        "            print(\"a is greater than b\")\n",
        "          else:\n",
        "            print(\"a is less than or not equal to b\")\n",
        "      - while: The code blocks inside the loop executes until the while conditi\n",
        "        fails\n",
        "          - count = 1\n",
        "            while count < 5:\n",
        "              print(f\"count is: {count}\")\n",
        "              count += 1\n",
        "      - for: for loop is advanced version of while loop, it has range, and the\n",
        "        code inside the loop until the range ends\n",
        "          - for i in range(n+1):\n",
        "              print(i)\n",
        "      - import: to import any modules, libraries, methods, functions, classes\n",
        "        etc into the current code we use this\n",
        "          - import numpy\n",
        "          - import pandas as pd\n",
        "      - continue: If the condition is met, it skips the condition and go back  \n",
        "        to the loop\n",
        "          - count = 1\n",
        "            while count < 5:\n",
        "              if count == 3:\n",
        "                continue\n",
        "              print(f\"count is: {count}\")\n",
        "              count += 1\n",
        "       - break: If the condition is met, execution comes out of the loop and  \n",
        "         the statements present outside the lopp starts executing\n",
        "          - count = 1\n",
        "            while count < 5:\n",
        "              if count == 2:\n",
        "                break\n",
        "              print(f\"count is: {count}\")\n",
        "              count += 1\n",
        "\n"
      ],
      "metadata": {
        "id": "UxnJ-OnAZTeh"
      }
    },
    {
      "cell_type": "markdown",
      "source": [
        "3. Compare and contrast mutable and immutable objects in Python with examples\n",
        "  - Mutable: It means changable (We can add, delete elements) or perform any\n",
        "     operation\n",
        "  - Immutable: It means unchangable (We cannot add, delete elements) or perform\n",
        "     any operation\n",
        "  - Mutable objects : Lists, Dictionaries, Set\n",
        "  - Immutable objects : Tuple, strings\n",
        "  - Examples:\n",
        "    - l = [100,\"mango\",(1,2),0.88,[-2,0]]\n",
        "      l.append(66)\n",
        "      l = [100,\"mango\",(1,2),0.88,[-2,0],66]\n",
        "      l.pop(2)\n",
        "      l = [100,\"mango\",0.88,[-2,0],66]\n",
        "    - d = {\"a\":5,\"b\":0.09}\n",
        "      d[\"c\"] = \"mango\"\n",
        "      d = {\"a\":5,\"b\":0.09,\"c\":\"mango\"}\n",
        "      del d[\"a\"]\n",
        "      d = {\"b\":0.09,\"c\":\"mango\"}\n",
        "    - t1 = (1,2,3)\n",
        "      t2 = t1 + (6,7)\n",
        "      It creates new tuple, doesnot modify the existing tuple t1\n",
        "      t2 = (1,2,3,6,7)\n",
        "    - s1 = \"watermelon\"\n",
        "      s2 = s1.replace(\"w\",\"W\")\n",
        "      It creates an new string, doesnot modify the existing string s1\n",
        "      s2 = \"Watermelon\"\n"
      ],
      "metadata": {
        "id": "IGqGYMz8fIxr"
      }
    },
    {
      "cell_type": "markdown",
      "source": [
        "4. Discuss the different types of operators in Python and provide examples of how they are used\n",
        "  - Arthimetic, Comaprision, Logical, Bitwise, Identity, Membership and\n",
        "     Assignment operators\n",
        "  - Arthimetic: +,-,*,/,%(Modulo division - returns remainder),//(Floor\n",
        "  division - returns int part and avoids the decimal part)\n",
        "  Used for performing the mentioned operations\n",
        "    - Example: a=1,b=2\n",
        "              print(a+b)  #prints 3\n",
        "              print(a-b)  #prints -1\n",
        "              print(a//b) #prints 1\n",
        "  - Comparision: >,<,>=,<=,==,!=\n",
        "  these are used to compare\n",
        "  Example: a=1,b=5\n",
        "           sum = a+b\n",
        "           if sum == 6:\n",
        "             pass\n",
        "  - Logical: we have logical and nd or\n",
        "  and: (10 and 9): If all are non-zeros, ie., both are True, so it returns the last truthy value ie., output = 9\n",
        "  (99 and 45 and 0 and 2): when a zero is encountered ie., it is a falsy value, so it returns 0, ie., output = 0\n",
        "  or: this works exactly opposite to logical and\n",
        "  lets take the same examples:\n",
        "  (10 or 9): If all are non-zeros, it returns the first truthy value, output = 10\n",
        "  (99 or 45 or 0 or 2): when ever a truthy value is encountered the output will be that, output = 99\n",
        "  lets consider another example: (0 or 45 or 0 or 2), output = 45\n",
        "  - Bitwise: We have bitwise and -> (&) and bitwise or -> (|)\n",
        "  this works on binary digits 0 and 1, we have bitwise right and left shift operators as well\n",
        "  bitwise and (&): 1&6\n",
        "  To convert it into binary, we use: bin()\n",
        "  bin(1) - 001\n",
        "  bin(6) - 110\n",
        "  output = 0\n",
        "  bitwise or (|): 1|6 output = 7\n",
        "  Left shift (<<) 16 by 2 ie., 16 << 2, we need to add 2 zeros at the end\n",
        "  bin(16) - 10000\n",
        "  16 << 2 - 1000000 = 64\n",
        "  Right shift (>>) 16 by 2 ie., we need to remove last 2 digits\n",
        "  16 >> 2 - 100 = 4\n",
        "  - Identity: This identifies if the left value is the right value ie.,\n",
        "  a=1, b=1\n",
        "  a is b -> this gives True\n",
        "  a is not b -> gives False\n",
        "  - Membership: Checks if the element is present\n",
        "  l = [1,2,3]\n",
        "  for 2 in l: #enters into loop, condition satisfies\n",
        "  for 80 in l: #doesnt enter the loop\n",
        "  - Assignment: +=,-=,*=,/=,%=,//=\n",
        "  This performs operation and assigns value to a variable\n",
        "  a=9\n",
        "  if a>0:\n",
        "    a += 1 # a = a+1\n",
        "  else:\n",
        "    a -= 1"
      ],
      "metadata": {
        "id": "cMydhaimj6G1"
      }
    },
    {
      "cell_type": "markdown",
      "source": [
        "5. Explain the concept of type casting in Python with examples\n",
        "  - Converting one data type into another data type is called Type casting\n",
        "  - Implicit and Explicit\n",
        "  - Implicit: Python converts based on expressions\n",
        "    - Example: a=1, b=2.5, c=a+b, print(c), output = 3.5\n",
        "  - Explicit: We need to convert the type using built-in type casting functions\n",
        "  - To identify the type of input we use - type()\n",
        "  - int(): converts a values into integer\n",
        "  - float(): converts a value into float\n",
        "  - str(): converts a value into string\n",
        "  - Example: a=\"5\", type(a) gives <class 'str'>, lets now convert it into int and float\n",
        "  b=int(a) output = 5 type is <class 'int'>\n",
        "  c=float(a) output = 5.0 <class 'float'>\n",
        "  - a=\"pie\"\n",
        "  b = int(a) #throws ValueError\n",
        "  - a=90\n",
        "  b = str(90) output = \"90\"\n",
        "  - a = 8.65\n",
        "  b = int(a) #The decimal part is truncated, output = 8"
      ],
      "metadata": {
        "id": "dXaIE-jUrDCD"
      }
    },
    {
      "cell_type": "markdown",
      "source": [
        "\n",
        "6. How do conditional statements work in Python? Illustrate with examples\n",
        "    - Conditional statements are if, if-else, if-elif-else\n",
        "    - if:\n",
        "      - x=37\n",
        "        if x>5:\n",
        "          print(\"x is greater than 5\") #this is the output\n",
        "    - if-else:\n",
        "      - x=10\n",
        "        if x != 10:\n",
        "          print(\"x is not equal to 10\")\n",
        "        else:\n",
        "          print(\"x is equal to 10\") #this is the output\n",
        "    - if-elif-else:\n",
        "      - fruit=\"mango\"\n",
        "        if fruit == \"Strawberry\":\n",
        "          print(\"Given fruit is Strawberry\")\n",
        "        elif fruit == \"mangO\":\n",
        "          print(\"Given fruit is mangO\") #as python is case-sensitive this block will not be executed\n",
        "        else:\n",
        "          print(\"Given fruit is mango\") #this is the output\n",
        "\n"
      ],
      "metadata": {
        "id": "XXbNwgLSuQeN"
      }
    },
    {
      "cell_type": "markdown",
      "source": [
        "7. Describe the different types of loops in Python and their use cases with examples.\n",
        "  - Different loops are: while and for\n",
        "  - while: we use this when we want to repeat the code block inside while loop as along as the condition is true\n",
        "  - Use cases:\n",
        "    - When the number of iterations is not known\n",
        "    - Loop continues until the condition is False or until the condition gets changed\n",
        "    - Example:\n",
        "      - count = 0\n",
        "        while count < 10:\n",
        "          print(count)\n",
        "          count += 1\n",
        "    - so here first it checks with count = 0, 0 < 10, so it enters the loop and executes the code block until the while condition fails\n",
        "  - for: we use this when we want to iterate over the collection of items/elements/characters (list, tuples, dictionaries, strings, ranges)\n",
        "  - Use case:\n",
        "    - When the number of iterations is known\n",
        "    - Iteration ends at the last element\n",
        "  - Example:\n",
        "    - for i in range(3):\n",
        "        print(i,sep=\",\",end=\" \") #output = 0, 1, 2\n",
        "    - numbers = [1,9.8,-2]\n",
        "      for num in numbers:\n",
        "        print(num,end=\" \") #output = 1, 9.8, -2\n",
        "    - s=\"Hello\"\n",
        "      for char in s:\n",
        "        print(char) #output =\n",
        "                              H\n",
        "                              e\n",
        "                              l\n",
        "                              l\n",
        "                              o\n",
        "    - Using break and continue:\n",
        "      - for num in range(10):\n",
        "          if num == 4:\n",
        "            continue  #Skips this iteration and flow goes back to the loop\n",
        "          if num == 7:\n",
        "            break     #Exits the loop\n",
        "          print(num)\n",
        "        else:\n",
        "          print(\"Loop execution is done\")"
      ],
      "metadata": {
        "id": "UIOSHZaswrNb"
      }
    },
    {
      "cell_type": "markdown",
      "source": [],
      "metadata": {
        "id": "dw5AyvqCwdrn"
      }
    }
  ]
}